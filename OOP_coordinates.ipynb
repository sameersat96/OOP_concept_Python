{
  "nbformat": 4,
  "nbformat_minor": 0,
  "metadata": {
    "colab": {
      "provenance": [],
      "authorship_tag": "ABX9TyMX8HvXvOV+VQuC/fFN184a",
      "include_colab_link": true
    },
    "kernelspec": {
      "name": "python3",
      "display_name": "Python 3"
    },
    "language_info": {
      "name": "python"
    }
  },
  "cells": [
    {
      "cell_type": "markdown",
      "metadata": {
        "id": "view-in-github",
        "colab_type": "text"
      },
      "source": [
        "<a href=\"https://colab.research.google.com/github/sameersat96/OOP_concept_Python/blob/main/OOP_coordinates.ipynb\" target=\"_parent\"><img src=\"https://colab.research.google.com/assets/colab-badge.svg\" alt=\"Open In Colab\"/></a>"
      ]
    },
    {
      "cell_type": "markdown",
      "source": [
        "### Write OOP classes to handle the following scenarios:\n",
        "\n",
        "- A user can create and view 2D coordinates\n",
        "- A user can find out the distance between 2 coordinates\n",
        "- A user can find find the distance of a coordinate from origin\n",
        "- A user can check if a point lies on a given line\n",
        "- A user can find the distance between a given 2D point and a given line\n",
        "\n"
      ],
      "metadata": {
        "id": "JUmWTebLbjwN"
      }
    },
    {
      "cell_type": "code",
      "source": [
        "class point:\n",
        "\n",
        "\n",
        "  def __init__(self,x,y):\n",
        "    self.x_cord=x\n",
        "    self.y_cord=y\n",
        "\n",
        "  def __str__(self):\n",
        "    return '<{},{}>'.format(self.x_cord,self.y_cord)  \n",
        "\n",
        "  def euclidean_dist(self,other):\n",
        "    return ((self.x_cord - other.x_cord)**2 + (self.y_cord - other.y_cord)**2)**0.5\n",
        "\n",
        "  def origin_dist(self):\n",
        "    return self.euclidean_dist(point(0,0))  \n",
        "\n",
        "\n",
        "\n",
        "\n",
        "class line:\n",
        "\n",
        "\n",
        "  def __init__(self,A,B,C):\n",
        "    self.A=A\n",
        "    self.B=B\n",
        "    self.C=C\n",
        "\n",
        "  def __str__(self):\n",
        "    return '{}x + {}y + {} = 0'.format(self.A,self.B,self.C) \n",
        "\n",
        "\n",
        "  def point_on_line(line,point):\n",
        "    if  line.A * point.x_cord + line.B * point.y_cord + line.C ==0:\n",
        "      return 'point lies on line'\n",
        "    else:\n",
        "      return 'Does not lie on line'\n",
        "\n",
        "\n",
        "  def shortest_distance(line,point):\n",
        "    return abs(line.A*point.x_cord + line.B*point.y_cord + line.C)/(line.A**2 + line.B**2)**0.5    \n",
        "\n",
        "\n",
        "    "
      ],
      "metadata": {
        "id": "VXFLzzwWdFZn"
      },
      "execution_count": 62,
      "outputs": []
    },
    {
      "cell_type": "code",
      "source": [
        "p1=point(1,3)\n",
        "p2=point(8,5)\n"
      ],
      "metadata": {
        "id": "NkReznm1fGqO"
      },
      "execution_count": 32,
      "outputs": []
    },
    {
      "cell_type": "code",
      "source": [
        "p1.euclidean_dist(p2)"
      ],
      "metadata": {
        "colab": {
          "base_uri": "https://localhost:8080/"
        },
        "id": "9X770Kc5fMWE",
        "outputId": "ad335ba4-fe98-4304-bea3-2f5d1791cecf"
      },
      "execution_count": 28,
      "outputs": [
        {
          "output_type": "execute_result",
          "data": {
            "text/plain": [
              "5.0990195135927845"
            ]
          },
          "metadata": {},
          "execution_count": 28
        }
      ]
    },
    {
      "cell_type": "code",
      "source": [
        "p1.origin_dist()"
      ],
      "metadata": {
        "colab": {
          "base_uri": "https://localhost:8080/"
        },
        "id": "b9oF_tyLfOCT",
        "outputId": "a3ace350-111b-47f3-9419-32eff86ddca5"
      },
      "execution_count": 33,
      "outputs": [
        {
          "output_type": "execute_result",
          "data": {
            "text/plain": [
              "3.1622776601683795"
            ]
          },
          "metadata": {},
          "execution_count": 33
        }
      ]
    },
    {
      "cell_type": "code",
      "source": [
        "a=line(2,5,9)\n",
        "print(a)"
      ],
      "metadata": {
        "colab": {
          "base_uri": "https://localhost:8080/"
        },
        "id": "0U1ZBDOEio1q",
        "outputId": "ddda363e-0980-481e-d44f-ba8be2045d69"
      },
      "execution_count": 45,
      "outputs": [
        {
          "output_type": "stream",
          "name": "stdout",
          "text": [
            "2x + 5y + 9 = 0\n"
          ]
        }
      ]
    },
    {
      "cell_type": "code",
      "source": [
        "c=line(1,1,2)\n",
        "d=point(-1,-1)"
      ],
      "metadata": {
        "id": "cO536d5ikMNp"
      },
      "execution_count": 55,
      "outputs": []
    },
    {
      "cell_type": "code",
      "source": [
        "c.point_on_line(d)"
      ],
      "metadata": {
        "colab": {
          "base_uri": "https://localhost:8080/",
          "height": 35
        },
        "id": "zKrcivVdm0XE",
        "outputId": "7b36a090-feb5-4613-f210-74121e838b91"
      },
      "execution_count": 56,
      "outputs": [
        {
          "output_type": "execute_result",
          "data": {
            "text/plain": [
              "'point lies on line'"
            ],
            "application/vnd.google.colaboratory.intrinsic+json": {
              "type": "string"
            }
          },
          "metadata": {},
          "execution_count": 56
        }
      ]
    },
    {
      "cell_type": "code",
      "source": [
        "c=line(2,5,3)\n",
        "d=point(2,5)"
      ],
      "metadata": {
        "id": "--qFlihfm61V"
      },
      "execution_count": 57,
      "outputs": []
    },
    {
      "cell_type": "code",
      "source": [
        "c.point_on_line(d)"
      ],
      "metadata": {
        "colab": {
          "base_uri": "https://localhost:8080/",
          "height": 35
        },
        "id": "2RuFypdkna8I",
        "outputId": "5e7133e0-8a81-4e55-a8f4-07248b54b2ee"
      },
      "execution_count": 58,
      "outputs": [
        {
          "output_type": "execute_result",
          "data": {
            "text/plain": [
              "'Does not lie on line'"
            ],
            "application/vnd.google.colaboratory.intrinsic+json": {
              "type": "string"
            }
          },
          "metadata": {},
          "execution_count": 58
        }
      ]
    },
    {
      "cell_type": "code",
      "source": [
        "N=line(1,1,2)\n",
        "M=point(-1,-1)\n",
        "\n",
        "N.shortest_distance(M)"
      ],
      "metadata": {
        "colab": {
          "base_uri": "https://localhost:8080/"
        },
        "id": "vyXb3lL8nf6-",
        "outputId": "898ed1a5-0c00-4689-91ec-2c047a09f367"
      },
      "execution_count": 63,
      "outputs": [
        {
          "output_type": "execute_result",
          "data": {
            "text/plain": [
              "0.0"
            ]
          },
          "metadata": {},
          "execution_count": 63
        }
      ]
    }
  ]
}