{
  "nbformat": 4,
  "nbformat_minor": 0,
  "metadata": {
    "colab": {
      "provenance": [],
      "authorship_tag": "ABX9TyN3hwY3Rm47bQg80sIqRUdS",
      "include_colab_link": true
    },
    "kernelspec": {
      "name": "python3",
      "display_name": "Python 3"
    },
    "language_info": {
      "name": "python"
    }
  },
  "cells": [
    {
      "cell_type": "markdown",
      "metadata": {
        "id": "view-in-github",
        "colab_type": "text"
      },
      "source": [
        "<a href=\"https://colab.research.google.com/github/sameersat96/OOP_concept_Python/blob/main/OOP_fraction.ipynb\" target=\"_parent\"><img src=\"https://colab.research.google.com/assets/colab-badge.svg\" alt=\"Open In Colab\"/></a>"
      ]
    },
    {
      "cell_type": "code",
      "execution_count": 39,
      "metadata": {
        "id": "-t3CesmUUgaN"
      },
      "outputs": [],
      "source": [
        "class fraction:\n",
        "\n",
        "  def __init__(self,x,y):\n",
        "    self.num = x\n",
        "    self.den = y\n",
        "\n",
        "  def __str__(self):\n",
        "    return '{}/{}'.format(self.num,self.den)\n",
        "\n",
        "  def __add__(self,other):\n",
        "    new_n = self.num * other.den + other.num * self.den\n",
        "    new_d = self.den * other.den\n",
        "    return '{}/{}'.format(new_n,new_d)\n",
        "\n",
        "  def __sub__(self,other):\n",
        "    new_n = self.num * other.den - other.num * self.den\n",
        "    new_d = self.den * other.den\n",
        "    return '{}/{}'.format(new_n,new_d) \n",
        "\n",
        "  def __mul__(self,other):\n",
        "    new_n = self.num * other.num\n",
        "    new_d = self.den * other.den\n",
        "    return '{}/{}'.format(new_n,new_d)    \n",
        "\n",
        "  def __truediv__(self,other):\n",
        "    new_n = self.num * other.den\n",
        "    new_d = self.den * other.num\n",
        "    return '{}/{}'.format(new_n,new_d)   \n",
        "\n",
        "\n",
        "\n",
        "\n",
        "\n",
        "\n",
        "\n",
        "\n"
      ]
    },
    {
      "cell_type": "code",
      "source": [
        "res=fraction(1,4)\n",
        "res2=fraction(2,8)"
      ],
      "metadata": {
        "id": "Wh3KLaSN8CTH"
      },
      "execution_count": 40,
      "outputs": []
    },
    {
      "cell_type": "code",
      "source": [
        "print(res + res2)\n",
        "print(res - res2)\n",
        "print(res * res2)\n",
        "print(res / res2)"
      ],
      "metadata": {
        "colab": {
          "base_uri": "https://localhost:8080/"
        },
        "id": "C-tmjI47-e5B",
        "outputId": "4ed479c2-dc36-47cc-d7e4-037fd1930ddd"
      },
      "execution_count": 42,
      "outputs": [
        {
          "output_type": "stream",
          "name": "stdout",
          "text": [
            "16/32\n",
            "0/32\n",
            "2/32\n",
            "8/8\n"
          ]
        }
      ]
    },
    {
      "cell_type": "code",
      "source": [],
      "metadata": {
        "id": "4DgqjXTY-T1v"
      },
      "execution_count": null,
      "outputs": []
    }
  ]
}