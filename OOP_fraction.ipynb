{
  "nbformat": 4,
  "nbformat_minor": 0,
  "metadata": {
    "colab": {
      "provenance": [],
      "authorship_tag": "ABX9TyP8G4S7zuohDAvsCKuQP+0E",
      "include_colab_link": true
    },
    "kernelspec": {
      "name": "python3",
      "display_name": "Python 3"
    },
    "language_info": {
      "name": "python"
    }
  },
  "cells": [
    {
      "cell_type": "markdown",
      "metadata": {
        "id": "view-in-github",
        "colab_type": "text"
      },
      "source": [
        "<a href=\"https://colab.research.google.com/github/sameersat96/OOP_concept_Python/blob/main/OOP_fraction.ipynb\" target=\"_parent\"><img src=\"https://colab.research.google.com/assets/colab-badge.svg\" alt=\"Open In Colab\"/></a>"
      ]
    },
    {
      "cell_type": "code",
      "execution_count": 43,
      "metadata": {
        "id": "-t3CesmUUgaN"
      },
      "outputs": [],
      "source": [
        "class fraction:\n",
        "\n",
        "  def __init__(self,x,y):\n",
        "    self.num = x\n",
        "    self.den = y\n",
        "\n",
        "  def __str__(self):\n",
        "    return '{}/{}'.format(self.num,self.den)\n",
        "\n",
        "  def __add__(self,other):\n",
        "    new_n = self.num * other.den + other.num * self.den\n",
        "    new_d = self.den * other.den\n",
        "    return '{}/{}'.format(new_n,new_d)\n",
        "\n",
        "  def __sub__(self,other):\n",
        "    new_n = self.num * other.den - other.num * self.den\n",
        "    new_d = self.den * other.den\n",
        "    return '{}/{}'.format(new_n,new_d) \n",
        "\n",
        "  def __mul__(self,other):\n",
        "    new_n = self.num * other.num\n",
        "    new_d = self.den * other.den\n",
        "    return '{}/{}'.format(new_n,new_d)    \n",
        "\n",
        "  def __truediv__(self,other):\n",
        "    new_n = self.num * other.den\n",
        "    new_d = self.den * other.num\n",
        "    return '{}/{}'.format(new_n,new_d)\n",
        "\n",
        "  def convert_to_decimal(self):\n",
        "    return self.num/self.den       \n",
        "\n",
        "\n",
        "\n",
        "\n",
        "\n",
        "\n",
        "\n",
        "\n"
      ]
    },
    {
      "cell_type": "code",
      "source": [
        "res=fraction(1,4)\n",
        "res2=fraction(2,8)"
      ],
      "metadata": {
        "id": "Wh3KLaSN8CTH"
      },
      "execution_count": 44,
      "outputs": []
    },
    {
      "cell_type": "code",
      "source": [
        "print(res + res2)\n",
        "print(res - res2)\n",
        "print(res * res2)\n",
        "print(res / res2)"
      ],
      "metadata": {
        "colab": {
          "base_uri": "https://localhost:8080/"
        },
        "id": "C-tmjI47-e5B",
        "outputId": "4ed479c2-dc36-47cc-d7e4-037fd1930ddd"
      },
      "execution_count": 42,
      "outputs": [
        {
          "output_type": "stream",
          "name": "stdout",
          "text": [
            "16/32\n",
            "0/32\n",
            "2/32\n",
            "8/8\n"
          ]
        }
      ]
    },
    {
      "cell_type": "code",
      "source": [
        "p=fraction(3,4)"
      ],
      "metadata": {
        "id": "XLolcfUACYIj"
      },
      "execution_count": 50,
      "outputs": []
    },
    {
      "cell_type": "code",
      "source": [
        "p.convert_to_decimal()"
      ],
      "metadata": {
        "colab": {
          "base_uri": "https://localhost:8080/"
        },
        "id": "4DgqjXTY-T1v",
        "outputId": "9f77f8a2-a635-442b-8c36-3ddc235e5bde"
      },
      "execution_count": 51,
      "outputs": [
        {
          "output_type": "execute_result",
          "data": {
            "text/plain": [
              "0.75"
            ]
          },
          "metadata": {},
          "execution_count": 51
        }
      ]
    },
    {
      "cell_type": "code",
      "source": [],
      "metadata": {
        "id": "GUh88zgqCc-B"
      },
      "execution_count": null,
      "outputs": []
    }
  ]
}